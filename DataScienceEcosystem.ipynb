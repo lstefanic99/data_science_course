{
 "cells": [
  {
   "cell_type": "markdown",
   "id": "b745ddd5",
   "metadata": {},
   "source": [
    "# Data Science Tools and Ecosystem"
   ]
  },
  {
   "cell_type": "markdown",
   "id": "5763e74b",
   "metadata": {},
   "source": [
    "In this notebook, Data Science Tools and Ecosystem are summarized."
   ]
  },
  {
   "cell_type": "markdown",
   "id": "4370b4f2",
   "metadata": {},
   "source": [
    "**Objectives:**\n",
    "\n",
    "    - List of popular languages for Data Science\n",
    "    - List of commonly used libraries for Data Science\n",
    "    - Table of popular tools for Data Science\n",
    "    - Examples of arithmetic expressions in Python"
   ]
  },
  {
   "cell_type": "markdown",
   "id": "fe001f2e",
   "metadata": {},
   "source": [
    "Some of the popular languages that Data Scientists use are:\n",
    "\n",
    "    1. Python\n",
    "    2. R\n",
    "    3. SQL\n",
    "    4. Julia\n",
    "    5. Scala"
   ]
  },
  {
   "cell_type": "markdown",
   "id": "41462510",
   "metadata": {},
   "source": [
    "Some of the commonly used libraries used by Data Scientists include:\n",
    "    \n",
    "    1. Pandas\n",
    "    2. Matplotlib\n",
    "    3. NumPy\n",
    "    4. Seaborn\n",
    "    5. TensorFlow"
   ]
  },
  {
   "cell_type": "markdown",
   "id": "ba7ac4b0",
   "metadata": {},
   "source": [
    "| Data Science Tools |\n",
    "| ------------------ |\n",
    "| Apache Spark       |\n",
    "| Apache Hadoop      |\n",
    "| Jupyter Notebook   |\n",
    "| VS Code            |\n",
    "| Rstudio            |"
   ]
  },
  {
   "cell_type": "markdown",
   "id": "1ee75161",
   "metadata": {},
   "source": [
    "### Below are a few examples of evaluating arithmetic expressions in Python"
   ]
  },
  {
   "cell_type": "code",
   "execution_count": 2,
   "id": "c9df94e0",
   "metadata": {
    "scrolled": true
   },
   "outputs": [
    {
     "data": {
      "text/plain": [
       "17"
      ]
     },
     "execution_count": 2,
     "metadata": {},
     "output_type": "execute_result"
    }
   ],
   "source": [
    "# This a simple arithmetic expression to mutiply then add integers\n",
    "(3*4)+5"
   ]
  },
  {
   "cell_type": "code",
   "execution_count": 3,
   "id": "316c0f93",
   "metadata": {},
   "outputs": [
    {
     "data": {
      "text/plain": [
       "33.333333333333336"
      ]
     },
     "execution_count": 3,
     "metadata": {},
     "output_type": "execute_result"
    }
   ],
   "source": [
    "# This will convert 200 minutes to hours by diving by 60\n",
    "200 / 6"
   ]
  },
  {
   "cell_type": "markdown",
   "id": "8621d0bc",
   "metadata": {},
   "source": [
    "## Author \n",
    "Luka Štefanić"
   ]
  }
 ],
 "metadata": {
  "kernelspec": {
   "display_name": "Python 3 (ipykernel)",
   "language": "python",
   "name": "python3"
  },
  "language_info": {
   "codemirror_mode": {
    "name": "ipython",
    "version": 3
   },
   "file_extension": ".py",
   "mimetype": "text/x-python",
   "name": "python",
   "nbconvert_exporter": "python",
   "pygments_lexer": "ipython3",
   "version": "3.9.4"
  }
 },
 "nbformat": 4,
 "nbformat_minor": 5
}
